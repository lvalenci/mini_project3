{
 "cells": [
  {
   "cell_type": "markdown",
   "metadata": {},
   "source": [
    "# Naive HMM Sonnet Generation"
   ]
  },
  {
   "cell_type": "code",
   "execution_count": 1,
   "metadata": {},
   "outputs": [],
   "source": [
    "import os\n",
    "import numpy as np\n",
    "from IPython.display import HTML\n",
    "\n",
    "from HMM import unsupervised_HMM\n",
    "from HMM_helper import (\n",
    "    text_to_wordcloud,\n",
    "    states_to_wordclouds,\n",
    "    parse_observations,\n",
    "    sample_sentence,\n",
    "    sample_sonnet,\n",
    "    visualize_sparsities,\n",
    "    animate_emission\n",
    ")"
   ]
  },
  {
   "cell_type": "code",
   "execution_count": 2,
   "metadata": {
    "scrolled": false
   },
   "outputs": [],
   "source": [
    "text = open(os.path.join(os.getcwd(), 'data/shakespeare_filt_1.txt')).read()"
   ]
  },
  {
   "cell_type": "code",
   "execution_count": 3,
   "metadata": {},
   "outputs": [],
   "source": [
    "obs, obs_map = parse_observations(text)"
   ]
  },
  {
   "cell_type": "markdown",
   "metadata": {},
   "source": [
    "## Generating sample sonnets"
   ]
  },
  {
   "cell_type": "markdown",
   "metadata": {},
   "source": [
    "We will generate sonnets using a varying number of hidden states. The number of hidden states will be 4, 8, 12, 16, and 20"
   ]
  },
  {
   "cell_type": "code",
   "execution_count": 4,
   "metadata": {
    "scrolled": false
   },
   "outputs": [
    {
     "name": "stdout",
     "output_type": "stream",
     "text": [
      "Sample Sentence:\n",
      "====================\n",
      "Lines the better on i thou flow who\n",
      "Dates then april of till speechless mine count\n",
      "As pine never let walk slay that they\n",
      "Age the when times to when arising the\n",
      "In middle illwresting than we prize lo the\n",
      "Wherein like story eat decay the love will\n",
      "Thee pity thine verse thee with shall so\n",
      "True my this now abuse tyrant and from\n",
      "Seat and when excuse deaths famine this on\n",
      "Thinks be death but my truth splendour disgrace\n",
      "Hush oppressed of of day waves in the\n",
      "Parts if upon so o marble subtleties the\n",
      "Figures impiety disgrace is thy to pleased when\n",
      "Shore as and that be you up to\n",
      "\n"
     ]
    }
   ],
   "source": [
    "print('Sample Sentence:\\n====================')\n",
    "hmm4 = unsupervised_HMM(obs, 4, 100)\n",
    "print(sample_sonnet(hmm4, obs_map, n_words=8))"
   ]
  },
  {
   "cell_type": "code",
   "execution_count": 5,
   "metadata": {},
   "outputs": [
    {
     "name": "stdout",
     "output_type": "stream",
     "text": [
      "\n",
      "Sample Sentence:\n",
      "====================\n",
      "Eithers new of still how the novel for\n",
      "Perceivst leaves is in often which me love\n",
      "And manners dateless kindhearted hath hadst them sight\n",
      "Pen the eyes not the be not will\n",
      "Purity be other thine doing the to numbers\n",
      "Abide i sweet you that conquest a behind\n",
      "Nature self hearts with or child a what\n",
      "This but one of beloved my a were\n",
      "Joy after forbid despair love thy lovers thy\n",
      "Age change that learning my world to cause\n",
      "Didst better thy by from adverse with the\n",
      "Weeds and be tis got if fled left\n",
      "In day the as time and tears from\n",
      "Clearer my make and much overpartial man her\n",
      "\n"
     ]
    }
   ],
   "source": [
    "hmm8 = unsupervised_HMM(obs, 8, 100)\n",
    "print('\\nSample Sentence:\\n====================')\n",
    "print(sample_sonnet(hmm8, obs_map, n_words=8))"
   ]
  },
  {
   "cell_type": "code",
   "execution_count": 6,
   "metadata": {},
   "outputs": [
    {
     "name": "stdout",
     "output_type": "stream",
     "text": [
      "\n",
      "Sample Sentence:\n",
      "====================\n",
      "Strained to and and lose far embassy praise\n",
      "Therein than love and bound cheek steal aid\n",
      "You with your for heavy of tempteth never\n",
      "Tomb with would o and on warrantise outlive\n",
      "So and know i befits odour honour red\n",
      "Set can seemed for thy with thine my\n",
      "A in death as your two least mine\n",
      "Life i so words so may love to\n",
      "For bending was double and to which thing\n",
      "Ill by divine this where in and excusing\n",
      "Self than and a so war but travel\n",
      "Rondure say of when leaves thy stain thy\n",
      "Night my is thus found but couplement thou\n",
      "Once my of eye robbed judgment do elsewhere\n",
      "\n"
     ]
    }
   ],
   "source": [
    "hmm12 = unsupervised_HMM(obs, 12, 100)\n",
    "print('\\nSample Sentence:\\n====================')\n",
    "print(sample_sonnet(hmm12, obs_map, n_words=8))"
   ]
  },
  {
   "cell_type": "code",
   "execution_count": 7,
   "metadata": {},
   "outputs": [
    {
     "name": "stdout",
     "output_type": "stream",
     "text": [
      "\n",
      "Sample Sentence:\n",
      "====================\n",
      "Write for wherein me view and life from\n",
      "One blunting this first at i whilst you\n",
      "Lies therein worthy aloft and expense falsehood smell\n",
      "Die long the in art is i in\n",
      "Subtleties swift thy any what again flatter long\n",
      "All as stain from than is either so\n",
      "Of thee gold my thou that moods honey\n",
      "Be it this in never and got shape\n",
      "Love mock times revolt summers weary thee to\n",
      "Hide might my to new or turned the\n",
      "Still ensconce till hath i and that whom\n",
      "Assured the to weeds they up my not\n",
      "Loving beauty to you to part so having\n",
      "Air subject no make thing thy upon not\n",
      "\n"
     ]
    }
   ],
   "source": [
    "hmm16 = unsupervised_HMM(obs, 16, 100)\n",
    "print('\\nSample Sentence:\\n====================')\n",
    "print(sample_sonnet(hmm16, obs_map, n_words=8))"
   ]
  },
  {
   "cell_type": "code",
   "execution_count": 8,
   "metadata": {},
   "outputs": [
    {
     "name": "stdout",
     "output_type": "stream",
     "text": [
      "\n",
      "Sample Sentence:\n",
      "====================\n",
      "Lips my therefore sunk behold there hath hours\n",
      "Absent i add travel and flatter my form\n",
      "In and deep treads love an thee and\n",
      "Promise is loving best excusing not thee days\n",
      "A with nature yellow thrice thine bestow than\n",
      "Give abundance i knows thee had alters whom\n",
      "Or which sound to loathsome mightst his for\n",
      "Pleasure savage fair mine to and and of\n",
      "Many daily which him that white be object\n",
      "Body my with slave large will thy with\n",
      "New her of of tender or of farthest\n",
      "That is head thy the me but mind\n",
      "My fawn longer fine be i kind i\n",
      "Selfs an use me play that still is\n",
      "\n"
     ]
    }
   ],
   "source": [
    "hmm20 = unsupervised_HMM(obs, 20, 100)\n",
    "print('\\nSample Sentence:\\n====================')\n",
    "print(sample_sonnet(hmm20, obs_map, n_words=8))"
   ]
  }
 ],
 "metadata": {
  "kernelspec": {
   "display_name": "Python 3",
   "language": "python",
   "name": "python3"
  },
  "language_info": {
   "codemirror_mode": {
    "name": "ipython",
    "version": 3
   },
   "file_extension": ".py",
   "mimetype": "text/x-python",
   "name": "python",
   "nbconvert_exporter": "python",
   "pygments_lexer": "ipython3",
   "version": "3.7.3"
  }
 },
 "nbformat": 4,
 "nbformat_minor": 2
}
