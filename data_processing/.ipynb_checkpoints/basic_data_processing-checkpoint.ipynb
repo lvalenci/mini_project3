{
 "cells": [
  {
   "cell_type": "code",
   "execution_count": 15,
   "metadata": {},
   "outputs": [
    {
     "name": "stdout",
     "output_type": "stream",
     "text": [
      "average number of words per line is: 8.158700696055684\n"
     ]
    }
   ],
   "source": [
    "# code to make a lines lower case and to remove certain punctuation marks\n",
    "filt = open('../data/shakespeare_filt_1.txt', 'w+')\n",
    "\n",
    "num_lines = 0\n",
    "num_words = 0\n",
    "digits = ['0','1','2','3','4','5','6','7','8','9',]\n",
    "with open('../data/shakespeare_raw.txt') as file:\n",
    "    for line in file:\n",
    "        if not (line == '\\n' or any(d in line for d in digits)):\n",
    "            while ',' in line:\n",
    "                line = line.replace(',', '')\n",
    "            while ':' in line:\n",
    "                line = line.replace(':', '')\n",
    "            while ';' in line:\n",
    "                line = line.replace(';', '')\n",
    "            while '.' in line:\n",
    "                line = line.replace('.', '')\n",
    "            while '(' in line:\n",
    "                line = line.replace('(', '')\n",
    "            while ')' in line:\n",
    "                line = line.replace(')', '')\n",
    "            while '?' in line:\n",
    "                line = line.replace('?', '')\n",
    "            while '!' in line:\n",
    "                line = line.replace('!', '')\n",
    "            if '  ' in line:\n",
    "                line = line[2:]\n",
    "            filt.write(line.lower())\n",
    "            num_lines += 1\n",
    "            num_words += line.count(' ') + 1\n",
    "filt.close()\n",
    "print('average number of words per line is:', num_words/num_lines)"
   ]
  },
  {
   "cell_type": "code",
   "execution_count": 1,
   "metadata": {},
   "outputs": [],
   "source": [
    "# code to make dictionary of syllable counts. <word>_ means syllable count at end of line\n",
    "def syllable_dict():\n",
    "    \"\"\"returns dictionary of syllable counts as reported by Syllable_dictionary.txt\n",
    "    <word>_ means syllable count of the word when it occurs at the end of a line\"\"\"\n",
    "    counts = dict()\n",
    "    \n",
    "    with open('../data/shakespeare_raw.txt') as file:\n",
    "        for line in file:\n",
    "            arr = line.split(' ', 1)\n",
    "            if 'E' in arr[1]:\n",
    "                cts = arr[1].split(' ', 1)\n",
    "                counts[arr[0]] = int(cts[1])\n",
    "                counts[(arr[0] + \"_\")] = int(cts[0].replace('E', ''))\n",
    "            else:\n",
    "                counts[arr[0]] = int(arr[1])\n",
    "    return counts\n"
   ]
  },
  {
   "cell_type": "code",
   "execution_count": 2,
   "metadata": {},
   "outputs": [
    {
     "ename": "AttributeError",
     "evalue": "'str' object has no attribute 'contains'",
     "output_type": "error",
     "traceback": [
      "\u001b[1;31m---------------------------------------------------------------------------\u001b[0m",
      "\u001b[1;31mAttributeError\u001b[0m                            Traceback (most recent call last)",
      "\u001b[1;32m<ipython-input-2-25e957cf219c>\u001b[0m in \u001b[0;36m<module>\u001b[1;34m\u001b[0m\n\u001b[1;32m----> 1\u001b[1;33m \u001b[0mc\u001b[0m \u001b[1;33m=\u001b[0m \u001b[0msyllable_dict\u001b[0m\u001b[1;33m(\u001b[0m\u001b[1;33m)\u001b[0m\u001b[1;33m\u001b[0m\u001b[1;33m\u001b[0m\u001b[0m\n\u001b[0m\u001b[0;32m      2\u001b[0m \u001b[0mprint\u001b[0m\u001b[1;33m(\u001b[0m\u001b[0mc\u001b[0m\u001b[1;33m[\u001b[0m\u001b[1;34m'a'\u001b[0m\u001b[1;33m]\u001b[0m\u001b[1;33m)\u001b[0m\u001b[1;33m\u001b[0m\u001b[1;33m\u001b[0m\u001b[0m\n",
      "\u001b[1;32m<ipython-input-1-2f468d699d67>\u001b[0m in \u001b[0;36msyllable_dict\u001b[1;34m()\u001b[0m\n\u001b[0;32m      8\u001b[0m         \u001b[1;32mfor\u001b[0m \u001b[0mline\u001b[0m \u001b[1;32min\u001b[0m \u001b[0mfile\u001b[0m\u001b[1;33m:\u001b[0m\u001b[1;33m\u001b[0m\u001b[1;33m\u001b[0m\u001b[0m\n\u001b[0;32m      9\u001b[0m             \u001b[0marr\u001b[0m \u001b[1;33m=\u001b[0m \u001b[0mline\u001b[0m\u001b[1;33m.\u001b[0m\u001b[0msplit\u001b[0m\u001b[1;33m(\u001b[0m\u001b[1;34m' '\u001b[0m\u001b[1;33m,\u001b[0m \u001b[1;36m1\u001b[0m\u001b[1;33m)\u001b[0m\u001b[1;33m\u001b[0m\u001b[1;33m\u001b[0m\u001b[0m\n\u001b[1;32m---> 10\u001b[1;33m             \u001b[1;32mif\u001b[0m \u001b[0marr\u001b[0m\u001b[1;33m[\u001b[0m\u001b[1;36m1\u001b[0m\u001b[1;33m]\u001b[0m\u001b[1;33m.\u001b[0m\u001b[0mcontains\u001b[0m\u001b[1;33m(\u001b[0m\u001b[1;34m'E'\u001b[0m\u001b[1;33m)\u001b[0m\u001b[1;33m:\u001b[0m\u001b[1;33m\u001b[0m\u001b[1;33m\u001b[0m\u001b[0m\n\u001b[0m\u001b[0;32m     11\u001b[0m                 \u001b[0mcts\u001b[0m \u001b[1;33m=\u001b[0m \u001b[0marr\u001b[0m\u001b[1;33m[\u001b[0m\u001b[1;36m1\u001b[0m\u001b[1;33m]\u001b[0m\u001b[1;33m.\u001b[0m\u001b[0msplit\u001b[0m\u001b[1;33m(\u001b[0m\u001b[1;34m' '\u001b[0m\u001b[1;33m,\u001b[0m \u001b[1;36m1\u001b[0m\u001b[1;33m)\u001b[0m\u001b[1;33m\u001b[0m\u001b[1;33m\u001b[0m\u001b[0m\n\u001b[0;32m     12\u001b[0m                 \u001b[0mcounts\u001b[0m\u001b[1;33m[\u001b[0m\u001b[0marr\u001b[0m\u001b[1;33m[\u001b[0m\u001b[1;36m0\u001b[0m\u001b[1;33m]\u001b[0m\u001b[1;33m]\u001b[0m \u001b[1;33m=\u001b[0m \u001b[0mint\u001b[0m\u001b[1;33m(\u001b[0m\u001b[0mcts\u001b[0m\u001b[1;33m[\u001b[0m\u001b[1;36m1\u001b[0m\u001b[1;33m]\u001b[0m\u001b[1;33m)\u001b[0m\u001b[1;33m\u001b[0m\u001b[1;33m\u001b[0m\u001b[0m\n",
      "\u001b[1;31mAttributeError\u001b[0m: 'str' object has no attribute 'contains'"
     ]
    }
   ],
   "source": [
    "c = syllable_dict()\n",
    "print(c['a'])"
   ]
  },
  {
   "cell_type": "code",
   "execution_count": null,
   "metadata": {},
   "outputs": [],
   "source": []
  }
 ],
 "metadata": {
  "kernelspec": {
   "display_name": "Python 3",
   "language": "python",
   "name": "python3"
  },
  "language_info": {
   "codemirror_mode": {
    "name": "ipython",
    "version": 3
   },
   "file_extension": ".py",
   "mimetype": "text/x-python",
   "name": "python",
   "nbconvert_exporter": "python",
   "pygments_lexer": "ipython3",
   "version": "3.7.4"
  }
 },
 "nbformat": 4,
 "nbformat_minor": 2
}
