{
 "cells": [
  {
   "cell_type": "code",
   "execution_count": 15,
   "metadata": {},
   "outputs": [
    {
     "name": "stdout",
     "output_type": "stream",
     "text": [
      "average number of words per line is: 8.158700696055684\n"
     ]
    }
   ],
   "source": [
    "filt = open('../data/shakespeare_filt_1.txt', 'w+')\n",
    "\n",
    "num_lines = 0\n",
    "num_words = 0\n",
    "digits = ['0','1','2','3','4','5','6','7','8','9',]\n",
    "with open('../data/shakespeare_raw.txt') as file:\n",
    "    for line in file:\n",
    "        if not (line == '\\n' or any(d in line for d in digits)):\n",
    "            while ',' in line:\n",
    "                line = line.replace(',', '')\n",
    "            while ':' in line:\n",
    "                line = line.replace(':', '')\n",
    "            while ';' in line:\n",
    "                line = line.replace(';', '')\n",
    "            while '.' in line:\n",
    "                line = line.replace('.', '')\n",
    "            while '(' in line:\n",
    "                line = line.replace('(', '')\n",
    "            while ')' in line:\n",
    "                line = line.replace(')', '')\n",
    "            while '?' in line:\n",
    "                line = line.replace('?', '')\n",
    "            while '!' in line:\n",
    "                line = line.replace('!', '')\n",
    "            if '  ' in line:\n",
    "                line = line[2:]\n",
    "            filt.write(line.lower())\n",
    "            num_lines += 1\n",
    "            num_words += line.count(' ') + 1\n",
    "filt.close()\n",
    "print('average number of words per line is:', num_words/num_lines)"
   ]
  },
  {
   "cell_type": "code",
   "execution_count": null,
   "metadata": {},
   "outputs": [],
   "source": []
  }
 ],
 "metadata": {
  "kernelspec": {
   "display_name": "Python 3",
   "language": "python",
   "name": "python3"
  },
  "language_info": {
   "codemirror_mode": {
    "name": "ipython",
    "version": 3
   },
   "file_extension": ".py",
   "mimetype": "text/x-python",
   "name": "python",
   "nbconvert_exporter": "python",
   "pygments_lexer": "ipython3",
   "version": "3.7.4"
  }
 },
 "nbformat": 4,
 "nbformat_minor": 2
}
