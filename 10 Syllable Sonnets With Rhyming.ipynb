{
 "cells": [
  {
   "cell_type": "markdown",
   "metadata": {},
   "source": [
    "# 10 Syllable HMM Sonnet Generation"
   ]
  },
  {
   "cell_type": "code",
   "execution_count": 1,
   "metadata": {},
   "outputs": [],
   "source": [
    "import os\n",
    "import numpy as np\n",
    "from IPython.display import HTML\n",
    "\n",
    "from HMM import unsupervised_HMM\n",
    "from HMM_helper import (\n",
    "    text_to_wordcloud,\n",
    "    states_to_wordclouds,\n",
    "    parse_observations,\n",
    "    create_rhyme_dict,\n",
    "    sample_sentence,\n",
    "    sample_sonnet,\n",
    "    sample_sonnet_syl_and_rhyme,\n",
    "    visualize_sparsities,\n",
    "    animate_emission,\n",
    "    syllable_dict,\n",
    "    sample_sonnet_syllables_only\n",
    ")"
   ]
  },
  {
   "cell_type": "code",
   "execution_count": 2,
   "metadata": {},
   "outputs": [],
   "source": [
    "text = open(os.path.join(os.getcwd(), 'data/shakespeare_filt_1.txt')).read()"
   ]
  },
  {
   "cell_type": "code",
   "execution_count": 3,
   "metadata": {},
   "outputs": [],
   "source": [
    "obs, obs_map = parse_observations(text)\n",
    "rhyme_dict = create_rhyme_dict(text)"
   ]
  },
  {
   "cell_type": "markdown",
   "metadata": {},
   "source": [
    "# Generating sample sonnets"
   ]
  },
  {
   "cell_type": "markdown",
   "metadata": {},
   "source": [
    "We will generate sonnets using a varying number of hidden states. The number of hidden states will be 4, 8, 12, 16, and 20"
   ]
  },
  {
   "cell_type": "code",
   "execution_count": 4,
   "metadata": {
    "scrolled": true
   },
   "outputs": [
    {
     "name": "stdout",
     "output_type": "stream",
     "text": [
      "Sample Sonnet:\n",
      "====================\n",
      "This day and clearer great to and stout lips\n",
      "There not where little thou the defeated\n",
      "Should being teeming where all doth to hue chips\n",
      "Front me have every my false created\n",
      "Are make of born words the praise least hell near\n",
      "Thievish passed make virgin a bud perish\n",
      "You my two see first thou turns again cheer\n",
      "If a dost to but in that the cherish\n",
      "Men's thievish their weeds out of in hour foes\n",
      "Thy memory far my compound that reign\n",
      "Mine to besiege nothing ill of are shows\n",
      "That act must when not prevent'st my maintain\n",
      "From mine heat falsehood to you his esteemed\n",
      "Self-example do they favour thy deemed\n",
      "\n"
     ]
    }
   ],
   "source": [
    "hmm4 = unsupervised_HMM(obs, 4, 100)\n",
    "print('Sample Sonnet:\\n====================')\n",
    "print(sample_sonnet_syl_and_rhyme(hmm4, obs_map, rhyme_dict, n_syl=10))"
   ]
  },
  {
   "cell_type": "code",
   "execution_count": 5,
   "metadata": {},
   "outputs": [
    {
     "name": "stdout",
     "output_type": "stream",
     "text": [
      "Sample Sonnet:\n",
      "====================\n",
      "Of sway on make perhaps is thine commend\n",
      "From be mourners painting nought injury\n",
      "For liker keep my and and one and mend\n",
      "And love of featureless her poverty\n",
      "See thee oaths be abuse phrase of and they\n",
      "By as come appetite of an they call\n",
      "A or doth that despised fingers say\n",
      "In not thy drooping with might of worth fall\n",
      "Stands pity and thine be if bond that sought\n",
      "As theft what they on time's even to o'er wide\n",
      "Grant by like trespass see since for must thought\n",
      "Upon secret kind for his call belied\n",
      "She shalt such own love o are the your noon\n",
      "His art thy cancelled why both sin that son\n",
      "\n"
     ]
    }
   ],
   "source": [
    "hmm8 = unsupervised_HMM(obs, 8, 100)\n",
    "print('Sample Sonnet:\\n====================')\n",
    "print(sample_sonnet_syl_and_rhyme(hmm8, obs_map, rhyme_dict, n_syl=10))"
   ]
  },
  {
   "cell_type": "code",
   "execution_count": 6,
   "metadata": {},
   "outputs": [
    {
     "name": "stdout",
     "output_type": "stream",
     "text": [
      "Sample Sonnet:\n",
      "====================\n",
      "So fear that my his best what lived presage\n",
      "Desert your good speak but whose must meetness\n",
      "So heart muse which my that nor erst or age\n",
      "Thy receipt to try pale sometime sweetness\n",
      "In death hath a right hear lambs steeled some mute\n",
      "Thank looks give you those thou make present debt\n",
      "Soundless my thou true till the prove impute\n",
      "Within thou thy love statute both right set\n",
      "Rider of mayst feasts praise faith created\n",
      "Long what so smiling book antiquity\n",
      "Faster long of beloved thy defeated\n",
      "League will title my thee iniquity\n",
      "Live still from strangely of to wrongs deface\n",
      "Shall my dost no love in art your plea place\n",
      "\n"
     ]
    }
   ],
   "source": [
    "hmm12 = unsupervised_HMM(obs, 12, 100)\n",
    "print('Sample Sonnet:\\n====================')\n",
    "print(sample_sonnet_syl_and_rhyme(hmm12, obs_map, rhyme_dict, n_syl=10))"
   ]
  },
  {
   "cell_type": "code",
   "execution_count": 7,
   "metadata": {},
   "outputs": [
    {
     "name": "stdout",
     "output_type": "stream",
     "text": [
      "Sample Sonnet:\n",
      "====================\n",
      "Why and cold to each whereto counterfeit\n",
      "Those exchequer them will heart's legacy\n",
      "Deserve burn by his but much death unset\n",
      "Thou hang thy soul to judgment shall have free\n",
      "Thing and by by i lost victor again\n",
      "Hurt self self it rich thou in the contents\n",
      "His go of and song fortune why she stain\n",
      "One beauty with the lays once monuments\n",
      "Thee with thy theirs thy so all the self's main\n",
      "Past i his that mine hundred their to prone\n",
      "Smiling junes though what's of that world of gain\n",
      "Your repair enough and kind at alone\n",
      "What besides where be all thee breasts no stay\n",
      "Being saturn graces without abuse day\n",
      "\n"
     ]
    }
   ],
   "source": [
    "hmm16 = unsupervised_HMM(obs, 16, 100)\n",
    "print('Sample Sonnet:\\n====================')\n",
    "print(sample_sonnet_syl_and_rhyme(hmm16, obs_map, rhyme_dict, n_syl=10))"
   ]
  },
  {
   "cell_type": "code",
   "execution_count": 8,
   "metadata": {},
   "outputs": [
    {
     "name": "stdout",
     "output_type": "stream",
     "text": [
      "Sample Sonnet:\n",
      "====================\n",
      "And swart-complexioned to where of me face\n",
      "Erst kills even and idle ear dignified\n",
      "Where how my slight limping to see your place\n",
      "Those plea shall that now of lose to mine dyed\n",
      "In my so and am i and not canst erred\n",
      "Title is this winters dear my true you\n",
      "Boy but and and my pleasure at transferred\n",
      "Their that i which life out time-bettering threw\n",
      "To you not kind love might i among dye\n",
      "Servant's wrinkles of methinks were measure\n",
      "Transfix in yet nor born the wantonly\n",
      "Spirit my a drink thee of very pleasure\n",
      "When within with any buds or frost rage\n",
      "Many but sense that to view they lov'st would age\n",
      "\n"
     ]
    }
   ],
   "source": [
    "hmm20 = unsupervised_HMM(obs, 20, 100)\n",
    "print('Sample Sonnet:\\n====================')\n",
    "print(sample_sonnet_syl_and_rhyme(hmm20, obs_map, rhyme_dict, n_syl=10))"
   ]
  },
  {
   "cell_type": "code",
   "execution_count": null,
   "metadata": {},
   "outputs": [],
   "source": []
  }
 ],
 "metadata": {
  "kernelspec": {
   "display_name": "Python 3",
   "language": "python",
   "name": "python3"
  },
  "language_info": {
   "codemirror_mode": {
    "name": "ipython",
    "version": 3
   },
   "file_extension": ".py",
   "mimetype": "text/x-python",
   "name": "python",
   "nbconvert_exporter": "python",
   "pygments_lexer": "ipython3",
   "version": "3.7.3"
  }
 },
 "nbformat": 4,
 "nbformat_minor": 2
}
