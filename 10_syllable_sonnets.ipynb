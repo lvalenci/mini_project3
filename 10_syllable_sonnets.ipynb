{
 "cells": [
  {
   "cell_type": "markdown",
   "metadata": {},
   "source": [
    "# 10 Syllable HMM Sonnet Generation"
   ]
  },
  {
   "cell_type": "code",
   "execution_count": 1,
   "metadata": {},
   "outputs": [],
   "source": [
    "import os\n",
    "import numpy as np\n",
    "from IPython.display import HTML\n",
    "\n",
    "from HMM import unsupervised_HMM\n",
    "from HMM_helper import (\n",
    "    text_to_wordcloud,\n",
    "    states_to_wordclouds,\n",
    "    parse_observations,\n",
    "    create_rhyme_dict,\n",
    "    sample_sentence,\n",
    "    sample_sonnet,\n",
    "    visualize_sparsities,\n",
    "    animate_emission,\n",
    "    syllable_dict,\n",
    "    sample_sonnet_syllables_only\n",
    ")"
   ]
  },
  {
   "cell_type": "code",
   "execution_count": 2,
   "metadata": {},
   "outputs": [],
   "source": [
    "text = open(os.path.join(os.getcwd(), 'data/shakespeare_filt_1.txt')).read()"
   ]
  },
  {
   "cell_type": "code",
   "execution_count": 3,
   "metadata": {
    "scrolled": false
   },
   "outputs": [],
   "source": [
    "obs, obs_map = parse_observations(text)"
   ]
  },
  {
   "cell_type": "markdown",
   "metadata": {},
   "source": [
    "# Generating sample sonnets"
   ]
  },
  {
   "cell_type": "markdown",
   "metadata": {},
   "source": [
    "We will generate sonnets using a varying number of hidden states. The number of hidden states will be 4, 8, 12, 16, and 20"
   ]
  },
  {
   "cell_type": "code",
   "execution_count": 5,
   "metadata": {},
   "outputs": [
    {
     "name": "stdout",
     "output_type": "stream",
     "text": [
      "Sample Sonnet:\n",
      "====================\n",
      "Increasing then willing make all works which\n",
      "All so now being thy wound name soon happy\n",
      "Or bareness what before of more how my\n",
      "Jade of hasten friends making to neither\n",
      "Bier the right the brain is upon mistress\n",
      "Must love disgrace are of found not forget\n",
      "Are up to clouds nothing enough sweet proud\n",
      "Him for in whilst if others invent my\n",
      "Welcome descriptions but up in wound like\n",
      "Thou of live thy should thou in thou vassal\n",
      "Thy the not our beauty glass me will his\n",
      "Willing are thou would title they name at\n",
      "Outright were if but and of can eyes to\n",
      "Belong no return to feasts folly prime\n",
      "\n"
     ]
    }
   ],
   "source": [
    "hmm4 = unsupervised_HMM(obs, 4, 100)\n",
    "print('Sample Sonnet:\\n====================')\n",
    "print(sample_sonnet_syllables_only(hmm4, obs_map, n_syl=10))"
   ]
  },
  {
   "cell_type": "code",
   "execution_count": 7,
   "metadata": {},
   "outputs": [
    {
     "name": "stdout",
     "output_type": "stream",
     "text": [
      "Sample Sonnet:\n",
      "====================\n",
      "His sweet and virtue acquaintance all have\n",
      "Summer all arise love indeed substance\n",
      "Cancelled enough perjured gentle critic\n",
      "Be oblation thy should a not for art\n",
      "By for not but freedom minded cured am\n",
      "Of without look their done thou if not the\n",
      "Tell after glass the far for motion were\n",
      "Must age thee hands to still thou dull were this\n",
      "Amiss than are come my if to is was\n",
      "Thy wrongs and what character your hearts of\n",
      "Story a put thousand to worths whom a\n",
      "Other in love having so the therefore\n",
      "Deeds for proud flowers themselves the falsehood a\n",
      "Clouds her you raised fears my and grew those that\n",
      "\n"
     ]
    }
   ],
   "source": [
    "hmm8 = unsupervised_HMM(obs, 8, 100)\n",
    "print('Sample Sonnet:\\n====================')\n",
    "print(sample_sonnet_syllables_only(hmm8, obs_map, n_syl=10))"
   ]
  },
  {
   "cell_type": "code",
   "execution_count": 8,
   "metadata": {},
   "outputs": [
    {
     "name": "stdout",
     "output_type": "stream",
     "text": [
      "Sample Sonnet:\n",
      "====================\n",
      "Turns slumbers metre gives knows most lived shame\n",
      "Guard glory his thy do having you which\n",
      "Frailer worser thou mine my before know\n",
      "Fear noted as when have withal have and\n",
      "Of cloud they world words so as a and thy\n",
      "Knit teach how that rich in self thou thee with\n",
      "For thine by bright long thou perfumed nor though\n",
      "Rhyme thee thee in every of thoughts heaven thee\n",
      "Till and like decrees night self torture to\n",
      "Halt rest stays be thou in a that to mine\n",
      "You extreme have worst my my than farther\n",
      "Makes heart am is which me you blooms all to\n",
      "Thy to none canst live lets survive heavenly\n",
      "Doth pencil you with thy me thee an her\n",
      "\n"
     ]
    }
   ],
   "source": [
    "hmm12 = unsupervised_HMM(obs, 12, 100)\n",
    "print('Sample Sonnet:\\n====================')\n",
    "print(sample_sonnet_syllables_only(hmm12, obs_map, n_syl=10))"
   ]
  },
  {
   "cell_type": "code",
   "execution_count": 9,
   "metadata": {},
   "outputs": [
    {
     "name": "stdout",
     "output_type": "stream",
     "text": [
      "Sample Sonnet:\n",
      "====================\n",
      "Winged as me make so time thunder from\n",
      "Show my might since them that for sick long ah\n",
      "Be those bright with mine and winter thinks thou\n",
      "My not o summers doing which whilst pure\n",
      "Heart or part will travail and so shun shouldst\n",
      "On this in come so shore the to weep as\n",
      "Blots art by will by but find mayst nor and\n",
      "To born from flame colour praise what thou while\n",
      "Die some full and so or you while scarcely\n",
      "The for know outward to then be to is\n",
      "General thou of general cruel in she\n",
      "Shine seem and which this without strength not my\n",
      "Her fond their those blessed sweet shall cannot\n",
      "Therefore but more by not but profaned things\n",
      "\n"
     ]
    }
   ],
   "source": [
    "hmm16 = unsupervised_HMM(obs, 16, 100)\n",
    "print('Sample Sonnet:\\n====================')\n",
    "print(sample_sonnet_syllables_only(hmm16, obs_map, n_syl=10))"
   ]
  },
  {
   "cell_type": "code",
   "execution_count": 4,
   "metadata": {},
   "outputs": [
    {
     "name": "stdout",
     "output_type": "stream",
     "text": [
      "Sample Sonnet:\n",
      "====================\n",
      "Gold lest to speak me of scarcely show you\n",
      "Thought with grows store to millions might thou that\n",
      "Last for hid heaven all woe another am\n",
      "Brass him a for pine thou it cloud then men\n",
      "To love none live love hindmost never that\n",
      "Perforce and love's farthest affairs my but\n",
      "Draw self the all the full decrees best thy\n",
      "Day youth for chopt damasked then my good and\n",
      "Exchanged his the mine for me those accents\n",
      "Everywhere was tops shall whate'er thy make\n",
      "Seen from mourners service spheres this thy yet\n",
      "Woman a thy that where the what thee for\n",
      "Motion shouldst still whose him since and for thy\n",
      "Love thy as cure each thee thou thee to it\n",
      "\n"
     ]
    }
   ],
   "source": [
    "hmm20 = unsupervised_HMM(obs, 20, 100)\n",
    "print('Sample Sonnet:\\n====================')\n",
    "print(sample_sonnet_syllables_only(hmm20, obs_map, n_syl=10))"
   ]
  },
  {
   "cell_type": "code",
   "execution_count": null,
   "metadata": {},
   "outputs": [],
   "source": []
  }
 ],
 "metadata": {
  "kernelspec": {
   "display_name": "Python 3",
   "language": "python",
   "name": "python3"
  },
  "language_info": {
   "codemirror_mode": {
    "name": "ipython",
    "version": 3
   },
   "file_extension": ".py",
   "mimetype": "text/x-python",
   "name": "python",
   "nbconvert_exporter": "python",
   "pygments_lexer": "ipython3",
   "version": "3.7.4"
  }
 },
 "nbformat": 4,
 "nbformat_minor": 2
}
