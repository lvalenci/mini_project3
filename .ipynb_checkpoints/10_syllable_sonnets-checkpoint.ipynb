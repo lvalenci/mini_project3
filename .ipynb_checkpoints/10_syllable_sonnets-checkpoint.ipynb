{
 "cells": [
  {
   "cell_type": "code",
   "execution_count": 1,
   "metadata": {},
   "outputs": [],
   "source": [
    "import os\n",
    "import numpy as np\n",
    "from IPython.display import HTML\n",
    "\n",
    "from HMM import unsupervised_HMM\n",
    "from HMM_helper import (\n",
    "    text_to_wordcloud,\n",
    "    states_to_wordclouds,\n",
    "    parse_observations,\n",
    "    sample_sentence,\n",
    "    sample_sonnet,\n",
    "    sample_sonnet_syllables,\n",
    "    visualize_sparsities,\n",
    "    animate_emission\n",
    ")"
   ]
  },
  {
   "cell_type": "code",
   "execution_count": 2,
   "metadata": {},
   "outputs": [],
   "source": [
    "text = open(os.path.join(os.getcwd(), 'data/shakespeare_filt_1.txt')).read()"
   ]
  },
  {
   "cell_type": "code",
   "execution_count": 3,
   "metadata": {},
   "outputs": [],
   "source": [
    "obs, obs_map = parse_observations(text)\n",
    "hmm = unsupervised_HMM(obs, 1, 1)"
   ]
  },
  {
   "cell_type": "code",
   "execution_count": 4,
   "metadata": {},
   "outputs": [
    {
     "name": "stdout",
     "output_type": "stream",
     "text": [
      "Sample Sentence:\n",
      "====================\n",
      "So of they her poison but by\n",
      "Win of me you eye thy region home\n",
      "And wide lies date say me taught up not\n",
      "Broken spites loved expire came all thee\n",
      "Alone win desired what i\n",
      "My is by when voice health thus eye thou\n",
      "With prove thy greet for wantonly stay\n",
      "All yet hadst length with under respect\n",
      "Too my to all will ever which gone\n",
      "Written wrinkles filled to hundred thus\n",
      "My and infection steeled tongue care\n",
      "New thy me so make west saved eyes what\n",
      "For are was against book mutual eyes\n",
      "Of and in told more turned gilded so\n",
      "\n"
     ]
    }
   ],
   "source": [
    "print('Sample Sentence:\\n====================')\n",
    "print(sample_sonnet_syllables(hmm, obs_map, n_syl=10))"
   ]
  },
  {
   "cell_type": "code",
   "execution_count": null,
   "metadata": {},
   "outputs": [],
   "source": []
  },
  {
   "cell_type": "code",
   "execution_count": 5,
   "metadata": {},
   "outputs": [],
   "source": [
    "counts = dict()\n",
    "with open('data/Syllable_dictionary.txt') as file:\n",
    "    for line in file:\n",
    "        arr = line.split(' ', 1)\n",
    "        if 'E' in arr[1]:\n",
    "            cts = arr[1].split(' ', 1)\n",
    "            counts[arr[0]] = int(cts[1][0])\n",
    "            counts[(arr[0] + \"_\")] = int(cts[0][1])\n",
    "        else:\n",
    "            counts[arr[0]] = int(arr[1][0])"
   ]
  },
  {
   "cell_type": "code",
   "execution_count": 8,
   "metadata": {},
   "outputs": [
    {
     "name": "stdout",
     "output_type": "stream",
     "text": [
      "1\n",
      "1\n",
      "1\n",
      "1\n",
      "2\n",
      "1\n",
      "1\n"
     ]
    }
   ],
   "source": [
    "\"\"\"print(counts['so'])\n",
    "print(counts['of'])\n",
    "print(counts['they'])\n",
    "print(counts['her'])\n",
    "print(counts['poison'])\n",
    "print(counts['but'])\n",
    "print(counts['by'])\"\"\""
   ]
  },
  {
   "cell_type": "code",
   "execution_count": null,
   "metadata": {},
   "outputs": [],
   "source": []
  }
 ],
 "metadata": {
  "kernelspec": {
   "display_name": "Python 3",
   "language": "python",
   "name": "python3"
  },
  "language_info": {
   "codemirror_mode": {
    "name": "ipython",
    "version": 3
   },
   "file_extension": ".py",
   "mimetype": "text/x-python",
   "name": "python",
   "nbconvert_exporter": "python",
   "pygments_lexer": "ipython3",
   "version": "3.7.4"
  }
 },
 "nbformat": 4,
 "nbformat_minor": 2
}
