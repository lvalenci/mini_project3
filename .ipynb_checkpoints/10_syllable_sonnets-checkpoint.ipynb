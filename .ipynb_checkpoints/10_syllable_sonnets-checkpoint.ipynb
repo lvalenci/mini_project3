{
 "cells": [
  {
   "cell_type": "markdown",
   "metadata": {},
   "source": [
    "# 10 Syllable HMM Sonnet Generation"
   ]
  },
  {
   "cell_type": "code",
   "execution_count": 1,
   "metadata": {},
   "outputs": [],
   "source": [
    "import os\n",
    "import numpy as np\n",
    "from IPython.display import HTML\n",
    "\n",
    "from HMM import unsupervised_HMM\n",
    "from HMM_helper import (\n",
    "    text_to_wordcloud,\n",
    "    states_to_wordclouds,\n",
    "    parse_observations,\n",
    "    create_rhyme_dict,\n",
    "    sample_sentence,\n",
    "    sample_sonnet,\n",
    "    sample_sonnet_syllables,\n",
    "    visualize_sparsities,\n",
    "    animate_emission\n",
    ")"
   ]
  },
  {
   "cell_type": "code",
   "execution_count": 2,
   "metadata": {},
   "outputs": [],
   "source": [
    "text = open(os.path.join(os.getcwd(), 'data/shakespeare_filt_1.txt')).read()"
   ]
  },
  {
   "cell_type": "code",
   "execution_count": 3,
   "metadata": {
    "scrolled": false
   },
   "outputs": [],
   "source": [
    "obs, obs_map = parse_observations(text)\n",
    "rhyme_dict = create_rhyme_dict(text)"
   ]
  },
  {
   "cell_type": "markdown",
   "metadata": {},
   "source": [
    "# Generating sample sonnets"
   ]
  },
  {
   "cell_type": "markdown",
   "metadata": {},
   "source": [
    "We will generate sonnets using a varying number of hidden states. The number of hidden states will be 4, 8, 12, 16, and 20"
   ]
  },
  {
   "cell_type": "code",
   "execution_count": 4,
   "metadata": {},
   "outputs": [
    {
     "name": "stdout",
     "output_type": "stream",
     "text": [
      "Sample Sonnet:\n",
      "====================\n",
      "Art eyes me appetite that my moment\n",
      "The ending my detain and injuries\n",
      "So every the beauty with eyes comment\n",
      "And fairest removed other enemies\n",
      "Flatter the faults of me as will belongs\n",
      "Plea potions that supposed art to devised\n",
      "Yet dost they so how never copy wrongs\n",
      "Unwooed a strong alone make sympathized\n",
      "Swift drowns advantage wish worth on favour\n",
      "In may up self see can beauty lose hue\n",
      "Eternal hence them moods but find savour\n",
      "Please look but fire grant more part same anew\n",
      "Wills of a sweet what knowledge your words moan\n",
      "Eye and think or old with his mind foregone\n",
      "\n"
     ]
    }
   ],
   "source": [
    "hmm4 = unsupervised_HMM(obs, 4, 100)\n",
    "print('Sample Sonnet:\\n====================')\n",
    "print(sample_sonnet_syllables(hmm, obs_map, rhyme_dict, n_syl=10))"
   ]
  },
  {
   "cell_type": "code",
   "execution_count": null,
   "metadata": {},
   "outputs": [],
   "source": []
  }
 ],
 "metadata": {
  "kernelspec": {
   "display_name": "Python 3",
   "language": "python",
   "name": "python3"
  },
  "language_info": {
   "codemirror_mode": {
    "name": "ipython",
    "version": 3
   },
   "file_extension": ".py",
   "mimetype": "text/x-python",
   "name": "python",
   "nbconvert_exporter": "python",
   "pygments_lexer": "ipython3",
   "version": "3.7.4"
  }
 },
 "nbformat": 4,
 "nbformat_minor": 2
}
