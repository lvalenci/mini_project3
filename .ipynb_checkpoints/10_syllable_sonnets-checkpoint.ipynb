{
 "cells": [
  {
   "cell_type": "code",
   "execution_count": 1,
   "metadata": {},
   "outputs": [],
   "source": [
    "import os\n",
    "import numpy as np\n",
    "from IPython.display import HTML\n",
    "\n",
    "from HMM import unsupervised_HMM\n",
    "from HMM_helper import (\n",
    "    text_to_wordcloud,\n",
    "    states_to_wordclouds,\n",
    "    parse_observations,\n",
    "    create_rhyme_dict,\n",
    "    sample_sentence,\n",
    "    sample_sonnet,\n",
    "    sample_sonnet_syllables,\n",
    "    visualize_sparsities,\n",
    "    animate_emission\n",
    ")"
   ]
  },
  {
   "cell_type": "code",
   "execution_count": 2,
   "metadata": {},
   "outputs": [],
   "source": [
    "text = open(os.path.join(os.getcwd(), 'data/shakespeare_filt_1.txt')).read()"
   ]
  },
  {
   "cell_type": "code",
   "execution_count": 3,
   "metadata": {
    "scrolled": false
   },
   "outputs": [],
   "source": [
    "obs, obs_map = parse_observations(text)\n",
    "rhyme_dict = create_rhyme_dict(text)\n",
    "\n",
    "hmm = unsupervised_HMM(obs, 10, 100)\n"
   ]
  },
  {
   "cell_type": "code",
   "execution_count": 4,
   "metadata": {},
   "outputs": [
    {
     "name": "stdout",
     "output_type": "stream",
     "text": [
      "Sample Sonnet:\n",
      "====================\n",
      "Praises poor my what from or new of blame\n",
      "Darkening her thou of thy the thoughts outworn\n",
      "All thing him my and upon my tame shame\n",
      "False this of thee for next be own seen born\n",
      "Should some live alone raven judgment hold\n",
      "His doth so not churl worthiness partake\n",
      "Thy with their where thou remembered untold\n",
      "Ten that friends entertain with which his sake\n",
      "Write or yet my wood bring with now meetness\n",
      "Go bosom hate were grows thou mine intents\n",
      "A had to to which nor yet of sweetness\n",
      "Though with not my buried thine accidents\n",
      "Hold on time call by edge and thy befits\n",
      "Bright full is what halt were i of commits\n",
      "\n"
     ]
    }
   ],
   "source": [
    "print('Sample Sonnet:\\n====================')\n",
    "print(sample_sonnet_syllables(hmm, obs_map, rhyme_dict, n_syl=10))"
   ]
  },
  {
   "cell_type": "code",
   "execution_count": null,
   "metadata": {},
   "outputs": [],
   "source": []
  }
 ],
 "metadata": {
  "kernelspec": {
   "display_name": "Python 3",
   "language": "python",
   "name": "python3"
  },
  "language_info": {
   "codemirror_mode": {
    "name": "ipython",
    "version": 3
   },
   "file_extension": ".py",
   "mimetype": "text/x-python",
   "name": "python",
   "nbconvert_exporter": "python",
   "pygments_lexer": "ipython3",
   "version": "3.7.3"
  }
 },
 "nbformat": 4,
 "nbformat_minor": 2
}
