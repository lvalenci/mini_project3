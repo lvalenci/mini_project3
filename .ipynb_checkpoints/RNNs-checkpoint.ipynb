{
 "cells": [
  {
   "cell_type": "code",
   "execution_count": 66,
   "metadata": {},
   "outputs": [],
   "source": [
    "# Import Statements\n",
    "from numpy import array\n",
    "from pickle import dump\n",
    "from keras.utils import to_categorical\n",
    "from keras.utils.vis_utils import plot_model\n",
    "from keras.models import Sequential\n",
    "from keras.layers import Dense\n",
    "from keras.layers import LSTM\n",
    "from keras.layers import Lambda\n",
    "from keras.callbacks import LambdaCallback\n",
    "\n",
    "import numpy as np\n",
    "import random\n",
    "import sys\n",
    "import io"
   ]
  },
  {
   "cell_type": "code",
   "execution_count": 67,
   "metadata": {},
   "outputs": [],
   "source": [
    "# Open the filtered Shakespeare data \n",
    "file = open('./data/shakespeare_filt_2.txt', 'r')\n",
    "text = file.read()\n",
    "file.close()"
   ]
  },
  {
   "cell_type": "code",
   "execution_count": 68,
   "metadata": {},
   "outputs": [],
   "source": [
    "# Organize the text into sequences of length characters, starting at every nth character \n",
    "length = 41\n",
    "n = 1\n",
    "sequences = [] \n",
    "\n",
    "for i in range(length, len(text), n):\n",
    "    seq = text[i-length:i+1]\n",
    "    sequences.append(seq)"
   ]
  },
  {
   "cell_type": "code",
   "execution_count": 69,
   "metadata": {},
   "outputs": [],
   "source": [
    "# Finding all the unique characters in seq_text\n",
    "chars = sorted(list(set(text)))\n",
    "\n",
    "# Creating a mapping for each unique char to an integer\n",
    "mapping = dict((c, i) for i, c in enumerate(chars))\n",
    "reverse_mapping = dict((i, c) for i, c in enumerate(chars))\n",
    "\n",
    "# Size of the dictionary\n",
    "vocab_size = len(mapping)\n",
    "\n",
    "encoded_sequences = []\n",
    "# For every line in sequences, encode the sequences using the mapping\n",
    "for seq in sequences:\n",
    "    encoded_seq = [mapping[char] for char in seq]\n",
    "    encoded_sequences.append(encoded_seq)"
   ]
  },
  {
   "cell_type": "code",
   "execution_count": 70,
   "metadata": {},
   "outputs": [
    {
     "data": {
      "text/plain": [
       "(93441, 41, 36)"
      ]
     },
     "execution_count": 70,
     "metadata": {},
     "output_type": "execute_result"
    }
   ],
   "source": [
    "# Split the sequences into X and y\n",
    "encoded_sequences = array(encoded_sequences)\n",
    "X, y = encoded_sequences[:,:-1], encoded_sequences[:,-1]\n",
    "\n",
    "# Use to_categorical to one hot encode the sequences\n",
    "encoded_sequences = [to_categorical(x, num_classes=vocab_size) for x in X]\n",
    "\n",
    "# Use to_categorical to one hot encode y\n",
    "X = array(encoded_sequences)\n",
    "y = to_categorical(y, num_classes=vocab_size)\n",
    "\n",
    "X.shape"
   ]
  },
  {
   "cell_type": "code",
   "execution_count": 78,
   "metadata": {},
   "outputs": [],
   "source": [
    "# Define RNN model with # LSTM units (units) and temperature (temp)\n",
    "def generate_model(X, units, temp):\n",
    "    model = Sequential()\n",
    "    # LSTM \n",
    "    model.add(LSTM(units, input_shape=(X.shape[1], X.shape[2])))\n",
    "    \n",
    "    # Add Lambda layer with temperature parameter \n",
    "    model.add(Lambda(lambda x: x / temp))\n",
    "    \n",
    "    # Softmax layer \n",
    "    model.add(Dense(vocab_size, activation='softmax'))\n",
    "    model.compile(loss='categorical_crossentropy', optimizer='adam', metrics=['accuracy'])\n",
    "    model.summary()\n",
    "   \n",
    "    return model"
   ]
  },
  {
   "cell_type": "code",
   "execution_count": null,
   "metadata": {},
   "outputs": [],
   "source": [
    "# I ran this cell multiple times with different parameters and saved the models \n",
    "model = generate_model(X,100,1)\n",
    "model.fit(X, y, epochs=50, verbose=2)\n",
    "model.save('./data/model.h5')"
   ]
  },
  {
   "cell_type": "code",
   "execution_count": null,
   "metadata": {},
   "outputs": [],
   "source": [
    "from keras.models import load_model\n",
    "from keras.utils import to_categorical\n",
    "from keras.preprocessing.sequence import pad_sequences\n",
    "\n",
    "# Generate a sequence of words given a seed\n",
    "def generate_seq(model, mapping, length, seed, n_chars):\n",
    "    text = seed\n",
    "     \n",
    "    for i in range(n_chars):\n",
    "        # Encode the characters \n",
    "        encoded = [mapping[char] for char in text]\n",
    "        \n",
    "        # Fixes the length of the sequence to be max length \n",
    "        encoded = pad_sequences([encoded], maxlen=length, truncating='pre')\n",
    "        \n",
    "        # Hot one encode the sequence\n",
    "        encoded = to_categorical(encoded, num_classes=len(mapping))\n",
    "        \n",
    "        # Predict the characters \n",
    "        yhat = model.predict_classes(encoded, verbose=0)\n",
    "        # reverse map integer to character\n",
    "        out_char = ''\n",
    "        for char, index in mapping.items():\n",
    "            if index == yhat:\n",
    "                out_char = char\n",
    "                break\n",
    "            # append to input\n",
    "        in_text += out_char\n",
    "    return in_text"
   ]
  },
  {
   "cell_type": "code",
   "execution_count": 94,
   "metadata": {},
   "outputs": [
    {
     "name": "stdout",
     "output_type": "stream",
     "text": [
      "Model: \"sequential_4\"\n",
      "_________________________________________________________________\n",
      "Layer (type)                 Output Shape              Param #   \n",
      "=================================================================\n",
      "lstm_4 (LSTM)                (None, 150)               112200    \n",
      "_________________________________________________________________\n",
      "lambda_1 (Lambda)            (None, 150)               0         \n",
      "_________________________________________________________________\n",
      "dense_3 (Dense)              (None, 36)                5436      \n",
      "=================================================================\n",
      "Total params: 117,636\n",
      "Trainable params: 117,636\n",
      "Non-trainable params: 0\n",
      "_________________________________________________________________\n",
      "None\n",
      "shall i compare thee to a summer's day?\n",
      "o his coorule ill but that should i le press.\n",
      "andeare thou make those didsicchestee even.\n",
      "for strat apon you wear agt of briends same,\n",
      "now forter oubless stall and mo gove willoss\n",
      "by ghard, and moren enderted theidespreed,\n",
      "which which it by strang time inas it be\n",
      "against pface thee alt the world waskemed,\n",
      "with a partyore dospiny, and praise resing,\n",
      "and to gove from thee hawh yot the stare,\n",
      "and mine eye withose forment, soull can than you keed,\n",
      "the rether self the fliedous refover all,\n",
      "i seaun to thee doth thy self that shane,\n",
      "in their beduey's but to thee shall nome,\n",
      "the love and to be tire bus bute, love.\n",
      "then love to be mys bett call one, of the elsect.\n",
      "i sweet wauty of hame anon thee my leats\n",
      "in ever ad all her far the will, and\n",
      "at mostilltedearest have in lake tome and.\n",
      "my glade they desired passinds is will best,\n",
      "that is is stookent deap sammer the erent.\n",
      "soulity sece a alt the blest hath my need,\n",
      "for they which thou mest thou distist true\n",
      "mink an my mort ter'sings and all,\n",
      "and al\n"
     ]
    }
   ],
   "source": [
    "model = load_model('./data/model_4_150_1.h5')\n",
    "print(model.summary())\n",
    "print(generate_seq(model, mapping, 41, \"shall i compare thee to a summer's day?\\n\", 1000))"
   ]
  },
  {
   "cell_type": "code",
   "execution_count": 95,
   "metadata": {},
   "outputs": [
    {
     "name": "stdout",
     "output_type": "stream",
     "text": [
      "Model: \"sequential_5\"\n",
      "_________________________________________________________________\n",
      "Layer (type)                 Output Shape              Param #   \n",
      "=================================================================\n",
      "lstm_5 (LSTM)                (None, 150)               112200    \n",
      "_________________________________________________________________\n",
      "lambda_2 (Lambda)            (None, 150)               0         \n",
      "_________________________________________________________________\n",
      "dense_4 (Dense)              (None, 36)                5436      \n",
      "=================================================================\n",
      "Total params: 117,636\n",
      "Trainable params: 117,636\n",
      "Non-trainable params: 0\n",
      "_________________________________________________________________\n",
      "None\n",
      "shall i compare thee to a summer's day?\n",
      "the reeves be their partion one time,\n",
      "thou art the bare's fore thee i joy not,\n",
      "the other with all withing of wormest lie,\n",
      "me is sight thee to foull far fre-how,\n",
      "the one than in me despyest with self bridg\n",
      "as with the cen ofe though i praise the brow,\n",
      "then will for my love, that to worth in ackil,\n",
      "a though i have so shall i am from me.\n",
      "let to hime for cares make of me love pose,\n",
      "when i beholy quesing were simes and detay.\n",
      "o true all for thee is a dail consing,\n",
      "and no not sagming acpiving wore your sead,\n",
      "still see wo love that i do you your seeming thee.\n",
      "when i have see i breast the tyolly are,\n",
      "and thou witt the best, show make flownrseds?\n",
      "in sill-lllame love he carouble sain gill\n",
      "artay hath erse his lifferce again is raie,\n",
      "that i am he dead, to decherse when chueks\n",
      "o no expurn if the world ever bear,\n",
      "surter the beauty of see, do no foor haig\n",
      "thou thy self than glest of my refight,\n",
      "and the culls of and true, his in his hals,\n",
      "that i am for my self are receives begivest,\n",
      "when i am he dear \n"
     ]
    }
   ],
   "source": [
    "model = load_model('./data/model_2_100_1.h5')\n",
    "print(model.summary())\n",
    "print(generate_seq(model, mapping, 41, \"shall i compare thee to a summer's day?\\n\", 1000))"
   ]
  },
  {
   "cell_type": "code",
   "execution_count": 96,
   "metadata": {},
   "outputs": [
    {
     "name": "stdout",
     "output_type": "stream",
     "text": [
      "Model: \"sequential_7\"\n",
      "_________________________________________________________________\n",
      "Layer (type)                 Output Shape              Param #   \n",
      "=================================================================\n",
      "lstm_7 (LSTM)                (None, 100)               54800     \n",
      "_________________________________________________________________\n",
      "lambda_4 (Lambda)            (None, 100)               0         \n",
      "_________________________________________________________________\n",
      "dense_6 (Dense)              (None, 36)                3636      \n",
      "=================================================================\n",
      "Total params: 58,436\n",
      "Trainable params: 58,436\n",
      "Non-trainable params: 0\n",
      "_________________________________________________________________\n",
      "None\n",
      "shall i compare thee to a summer's day?\n",
      "thy will not me thou be receiv'st of my more,\n",
      "that i have sweet fair this sweet upon thee,\n",
      "do works that which i constanter's shape,\n",
      "the world not so thou be received and thee\n",
      "were his black sweet fair with his charace\n",
      "but thou dost thou art swears of thy self,\n",
      "and thou shall summord of their fair frows,\n",
      "and so not love hath thoughts (and sinceed\n",
      "but her preature that my love to the wrong,\n",
      "that i have sweet fair those as my sins mind,\n",
      "that strongle and then my love still still,\n",
      "that i have sweet think that thou art so grows,\n",
      "so live thou art swearous will best sight,\n",
      "then thy sweet self compovion spent\n",
      "she live thy self in their shame do in mend,\n",
      "nor cannit is not so great doth thought,\n",
      "and love's fire his black have summer'st the grow,\n",
      "to live thee that thou art so death of thy brow,\n",
      "for i not love thy self in their bear weak,\n",
      "to leave thou art sworn, which i my love thee,\n",
      "which i being my state which i constant deeds,\n",
      "the subject to the world with thy self doth repay,\n",
      "and the world w\n"
     ]
    }
   ],
   "source": [
    "model = load_model('./data/model_1_100_1.h5')\n",
    "print(model.summary())\n",
    "print(generate_seq(model, mapping, 41, \"shall i compare thee to a summer's day?\\n\", 1000))"
   ]
  },
  {
   "cell_type": "code",
   "execution_count": 97,
   "metadata": {},
   "outputs": [
    {
     "name": "stdout",
     "output_type": "stream",
     "text": [
      "Model: \"sequential_8\"\n",
      "_________________________________________________________________\n",
      "Layer (type)                 Output Shape              Param #   \n",
      "=================================================================\n",
      "lstm_8 (LSTM)                (None, 100)               54800     \n",
      "_________________________________________________________________\n",
      "lambda_5 (Lambda)            (None, 100)               0         \n",
      "_________________________________________________________________\n",
      "dense_7 (Dense)              (None, 36)                3636      \n",
      "=================================================================\n",
      "Total params: 58,436\n",
      "Trainable params: 58,436\n",
      "Non-trainable params: 0\n",
      "_________________________________________________________________\n",
      "None\n",
      "shall i compare thee to a summer's day?\n",
      "thou thy self and some thee that thou art,\n",
      "and that i am thou art so fair praised than\n",
      "thou art the world my love that beauty of me,\n",
      "and that thou art the world my self to tell.\n",
      "and the world of more that in the world,\n",
      "and the strength in my self all the worth and love,\n",
      "that i am thou art summer and the sum,\n",
      "when i and beauty be thre beauted, and.\n",
      "thou art the world men of the substare told,\n",
      "and then still the world of thee that i am,\n",
      "to the present on thou art so all tree,\n",
      "that thou art the world my love thou art,\n",
      "and that thou art the world my self all tords of sin,\n",
      "that i am thou art summer and the stand\n",
      "and thou art the present of the than thought, than thou art summer's lasse thee,\n",
      "and then thou art the world my self all thee,\n",
      "and the presents and the love thee the wort,\n",
      "that thou art the world men of thee thee,\n",
      "and that thou art the world my self all tords of sin,\n",
      "that i am thou art summer and the stand\n",
      "and thou art the present of the than thought, than thou art summer's lasse th\n"
     ]
    }
   ],
   "source": [
    "model = load_model('./data/model_1_100_1.75.h5')\n",
    "print(model.summary())\n",
    "print(generate_seq(model, mapping, 41, \"shall i compare thee to a summer's day?\\n\", 1000))"
   ]
  },
  {
   "cell_type": "code",
   "execution_count": 98,
   "metadata": {},
   "outputs": [
    {
     "name": "stdout",
     "output_type": "stream",
     "text": [
      "Model: \"sequential_9\"\n",
      "_________________________________________________________________\n",
      "Layer (type)                 Output Shape              Param #   \n",
      "=================================================================\n",
      "lstm_9 (LSTM)                (None, 100)               54800     \n",
      "_________________________________________________________________\n",
      "lambda_6 (Lambda)            (None, 100)               0         \n",
      "_________________________________________________________________\n",
      "dense_8 (Dense)              (None, 36)                3636      \n",
      "=================================================================\n",
      "Total params: 58,436\n",
      "Trainable params: 58,436\n",
      "Non-trainable params: 0\n",
      "_________________________________________________________________\n",
      "None\n",
      "shall i compare thee to a summer's day?\n",
      "whence sweet self thou art as the seen thee,\n",
      "who art as thou art forgot in truth desert,\n",
      "and in the will every what i seen thee,\n",
      "and in the will all-earies the strong,\n",
      "for thou art forgot, than thou art as mine,\n",
      "so that i have thought the day of thee in me,\n",
      "whaten i am so thine the return of thy show,\n",
      "the one doth that words which shall state,\n",
      "and then i am so greate to canchy which string,\n",
      "and their still with my aming make to thee,\n",
      "the olk your then thou wast ten undo steres,\n",
      "they have the willies and straight in thee,\n",
      "when thou whose shall see his gract a good.\n",
      "thou art as thou art beauty on the disgrace.\n",
      "lest thou art thou that i am as thy carrons,\n",
      "then shall shame is beauty of the thought,\n",
      "and heart's for my sing the chourd thee frest,\n",
      "that thou art all thought the dial how thee.\n",
      "if that in the winter stains words to grait\n",
      "for thee the world with the proud thee steep,\n",
      "the one another seem but every hand\n",
      "with men to the blessed with from my stain,\n",
      "and then should be thee in the wil\n"
     ]
    }
   ],
   "source": [
    "model = load_model('./data/model_1_100_0.75.h5')\n",
    "print(model.summary())\n",
    "print(generate_seq(model, mapping, 41, \"shall i compare thee to a summer's day?\\n\", 1000))"
   ]
  },
  {
   "cell_type": "code",
   "execution_count": 99,
   "metadata": {},
   "outputs": [
    {
     "name": "stdout",
     "output_type": "stream",
     "text": [
      "Model: \"sequential_10\"\n",
      "_________________________________________________________________\n",
      "Layer (type)                 Output Shape              Param #   \n",
      "=================================================================\n",
      "lstm_10 (LSTM)               (None, 100)               54800     \n",
      "_________________________________________________________________\n",
      "lambda_7 (Lambda)            (None, 100)               0         \n",
      "_________________________________________________________________\n",
      "dense_9 (Dense)              (None, 36)                3636      \n",
      "=================================================================\n",
      "Total params: 58,436\n",
      "Trainable params: 58,436\n",
      "Non-trainable params: 0\n",
      "_________________________________________________________________\n",
      "None\n",
      "shall i compare thee to a summer's day?\n",
      "thou are you with me ablacked that love told\n",
      "still to hear that which i think of thine,\n",
      "and such a breath, and to my dear pleasure.\n",
      "so thee, thou dost not be thy dear fair render,\n",
      "whilst thou art forgot, where beauty being,\n",
      "and to the resto disgrace,\n",
      "but when i summer's breathers beauty maken\n",
      "which works my love to store summer of you,\n",
      "and love another than with the beauty,\n",
      "and see to summer's death thou art offend\n",
      "those than they truthful worly is strongf dead.\n",
      "but when from thee that i have sun of live?\n",
      "why should the best that i will be then say,\n",
      "and for the sorry the world, thought in thy fixest pride.\n",
      "o that bear thy self-sowng to me,\n",
      "nor dare i have i should i womb they sin,\n",
      "as what so for some of time's with the doth fair shall be tongue,\n",
      "and praise that thou art to growned by\n",
      "againtied to the restill grow heart.\n",
      "and you trimment thou that which i will dross,\n",
      "when i swear any will by thy deeds,\n",
      "and thence is such appetith thee,\n",
      "and to the strength not that i will best\n",
      "away to co\n"
     ]
    }
   ],
   "source": [
    "model = load_model('./data/model_1_100_0.25.h5')\n",
    "print(model.summary())\n",
    "print(generate_seq(model, mapping, 41, \"shall i compare thee to a summer's day?\\n\", 1000))"
   ]
  }
 ],
 "metadata": {
  "kernelspec": {
   "display_name": "Python 3",
   "language": "python",
   "name": "python3"
  },
  "language_info": {
   "codemirror_mode": {
    "name": "ipython",
    "version": 3
   },
   "file_extension": ".py",
   "mimetype": "text/x-python",
   "name": "python",
   "nbconvert_exporter": "python",
   "pygments_lexer": "ipython3",
   "version": "3.7.6"
  }
 },
 "nbformat": 4,
 "nbformat_minor": 2
}
